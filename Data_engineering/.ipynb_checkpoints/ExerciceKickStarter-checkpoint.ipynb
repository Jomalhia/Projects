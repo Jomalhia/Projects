{
 "cells": [
  {
   "cell_type": "markdown",
   "metadata": {},
   "source": [
    "#  Consignes\n",
    "\n",
    "## Description\n",
    "\n",
    "Ouvrir le fichier ks-projects-201801.csv, il recense environ 100 000 projets KickStarter. Intégrer les données directement avec L'API Python dans une base de données Mongo. \n",
    "\n",
    "Il conviendra de bien spécifier manuellement l'ID du document. Pensez aussi à bien formatter le type des données pour profiter des méthodes implémentées par Mongo. L'ensemble de données n'est pas forcément nécessaire, c'est à vous de créer votre modèle de données.\n",
    "\n",
    "## Questions\n",
    "\n",
    "- 1) Récupérer les 5 projets ayant reçu le plus de promesse de dons.\n",
    "- 2) Compter le nombre de projets ayant atteint leur but.\n",
    "- 3) Compter le nombre de projets pour chaque catégorie.\n",
    "- 4) Compter le nombre de projets français ayant été instanciés avant 2016.\n",
    "- 5) Récupérer les projets américains ayant demandé plus de 200 000 dollars.\n",
    "- 6) Compter le nombre de projet ayant \"Sport\" dans leur nom"
   ]
  },
  {
   "cell_type": "code",
   "execution_count": 42,
   "metadata": {},
   "outputs": [],
   "source": [
    "import pandas as pd\n",
    "import pymongo"
   ]
  },
  {
   "cell_type": "code",
   "execution_count": 43,
   "metadata": {},
   "outputs": [],
   "source": [
    "client = pymongo.MongoClient(\"mongo\")\n",
    "database = client['exercices']\n",
    "collection = database['kickstarter']"
   ]
  },
  {
   "cell_type": "code",
   "execution_count": 44,
   "metadata": {},
   "outputs": [
    {
     "name": "stderr",
     "output_type": "stream",
     "text": [
      "/root/.local/share/virtualenvs/code-AFz48Hjb/lib/python3.8/site-packages/IPython/core/interactiveshell.py:3146: DtypeWarning: Columns (6,8,10,12) have mixed types.Specify dtype option on import or set low_memory=False.\n",
      "  has_raised = await self.run_ast_nodes(code_ast.body, cell_name,\n"
     ]
    },
    {
     "data": {
      "text/html": [
       "<div>\n",
       "<style scoped>\n",
       "    .dataframe tbody tr th:only-of-type {\n",
       "        vertical-align: middle;\n",
       "    }\n",
       "\n",
       "    .dataframe tbody tr th {\n",
       "        vertical-align: top;\n",
       "    }\n",
       "\n",
       "    .dataframe thead th {\n",
       "        text-align: right;\n",
       "    }\n",
       "</style>\n",
       "<table border=\"1\" class=\"dataframe\">\n",
       "  <thead>\n",
       "    <tr style=\"text-align: right;\">\n",
       "      <th></th>\n",
       "      <th>ID</th>\n",
       "      <th>name</th>\n",
       "      <th>category</th>\n",
       "      <th>main_category</th>\n",
       "      <th>currency</th>\n",
       "      <th>deadline</th>\n",
       "      <th>goal</th>\n",
       "      <th>launched</th>\n",
       "      <th>pledged</th>\n",
       "      <th>state</th>\n",
       "      <th>backers</th>\n",
       "      <th>country</th>\n",
       "      <th>usd pledged</th>\n",
       "      <th>usd_pledged_real</th>\n",
       "    </tr>\n",
       "  </thead>\n",
       "  <tbody>\n",
       "    <tr>\n",
       "      <th>0</th>\n",
       "      <td>872782264</td>\n",
       "      <td>Scott Cooper's Solo CD \"A Leg Trick\" (Canceled)</td>\n",
       "      <td>Rock</td>\n",
       "      <td>Music</td>\n",
       "      <td>USD</td>\n",
       "      <td>2011-09-16</td>\n",
       "      <td>2000</td>\n",
       "      <td>2011-08-17 06:31:31</td>\n",
       "      <td>1145</td>\n",
       "      <td>canceled</td>\n",
       "      <td>24</td>\n",
       "      <td>US</td>\n",
       "      <td>1145</td>\n",
       "      <td>1145.000000</td>\n",
       "    </tr>\n",
       "    <tr>\n",
       "      <th>1</th>\n",
       "      <td>1326492673</td>\n",
       "      <td>Ohceola jewelry</td>\n",
       "      <td>Fashion</td>\n",
       "      <td>Fashion</td>\n",
       "      <td>USD</td>\n",
       "      <td>2012-08-22</td>\n",
       "      <td>18000</td>\n",
       "      <td>2012-07-23 20:46:48</td>\n",
       "      <td>1851</td>\n",
       "      <td>failed</td>\n",
       "      <td>28</td>\n",
       "      <td>US</td>\n",
       "      <td>1851</td>\n",
       "      <td>1851.000000</td>\n",
       "    </tr>\n",
       "    <tr>\n",
       "      <th>2</th>\n",
       "      <td>1688410639</td>\n",
       "      <td>Sluff Off &amp; Harald: Two latest EGGs are Classi...</td>\n",
       "      <td>Tabletop Games</td>\n",
       "      <td>Games</td>\n",
       "      <td>USD</td>\n",
       "      <td>2016-07-19</td>\n",
       "      <td>2000</td>\n",
       "      <td>2016-07-01 21:55:54</td>\n",
       "      <td>7534</td>\n",
       "      <td>successful</td>\n",
       "      <td>254</td>\n",
       "      <td>US</td>\n",
       "      <td>3796</td>\n",
       "      <td>7534.000000</td>\n",
       "    </tr>\n",
       "    <tr>\n",
       "      <th>3</th>\n",
       "      <td>156812982</td>\n",
       "      <td>SketchPlanner: Create and Plan- all in one bea...</td>\n",
       "      <td>Art Books</td>\n",
       "      <td>Publishing</td>\n",
       "      <td>USD</td>\n",
       "      <td>2017-09-27</td>\n",
       "      <td>13000</td>\n",
       "      <td>2017-08-28 15:47:02</td>\n",
       "      <td>16298</td>\n",
       "      <td>successful</td>\n",
       "      <td>367</td>\n",
       "      <td>US</td>\n",
       "      <td>2670</td>\n",
       "      <td>16298.000000</td>\n",
       "    </tr>\n",
       "    <tr>\n",
       "      <th>4</th>\n",
       "      <td>1835968190</td>\n",
       "      <td>Proven sales with custom motorcycle accessories</td>\n",
       "      <td>Sculpture</td>\n",
       "      <td>Art</td>\n",
       "      <td>CAD</td>\n",
       "      <td>2016-02-24</td>\n",
       "      <td>5000</td>\n",
       "      <td>2016-01-25 17:37:10</td>\n",
       "      <td>1</td>\n",
       "      <td>failed</td>\n",
       "      <td>1</td>\n",
       "      <td>CA</td>\n",
       "      <td>0.708148</td>\n",
       "      <td>0.738225</td>\n",
       "    </tr>\n",
       "  </tbody>\n",
       "</table>\n",
       "</div>"
      ],
      "text/plain": [
       "           ID                                               name  \\\n",
       "0   872782264    Scott Cooper's Solo CD \"A Leg Trick\" (Canceled)   \n",
       "1  1326492673                                    Ohceola jewelry   \n",
       "2  1688410639  Sluff Off & Harald: Two latest EGGs are Classi...   \n",
       "3   156812982  SketchPlanner: Create and Plan- all in one bea...   \n",
       "4  1835968190    Proven sales with custom motorcycle accessories   \n",
       "\n",
       "         category main_category currency    deadline   goal  \\\n",
       "0            Rock         Music      USD  2011-09-16   2000   \n",
       "1         Fashion       Fashion      USD  2012-08-22  18000   \n",
       "2  Tabletop Games         Games      USD  2016-07-19   2000   \n",
       "3       Art Books    Publishing      USD  2017-09-27  13000   \n",
       "4       Sculpture           Art      CAD  2016-02-24   5000   \n",
       "\n",
       "              launched pledged       state backers country usd pledged  \\\n",
       "0  2011-08-17 06:31:31    1145    canceled      24      US        1145   \n",
       "1  2012-07-23 20:46:48    1851      failed      28      US        1851   \n",
       "2  2016-07-01 21:55:54    7534  successful     254      US        3796   \n",
       "3  2017-08-28 15:47:02   16298  successful     367      US        2670   \n",
       "4  2016-01-25 17:37:10       1      failed       1      CA    0.708148   \n",
       "\n",
       "   usd_pledged_real  \n",
       "0       1145.000000  \n",
       "1       1851.000000  \n",
       "2       7534.000000  \n",
       "3      16298.000000  \n",
       "4          0.738225  "
      ]
     },
     "execution_count": 44,
     "metadata": {},
     "output_type": "execute_result"
    }
   ],
   "source": [
    "df_ks = pd.read_csv(\"./data/ks-projects-201801-sample.csv\",encoding='utf-8')\n",
    "df_ks.head()"
   ]
  },
  {
   "cell_type": "markdown",
   "metadata": {},
   "source": [
    "Ce warning intervient lorsque pandas n'arrive pas à inférer le type de données. Il est sympa il précise les colones 6,8,10,12. "
   ]
  },
  {
   "cell_type": "code",
   "execution_count": 45,
   "metadata": {},
   "outputs": [
    {
     "data": {
      "text/plain": [
       "Index(['goal', 'pledged', 'backers', 'usd pledged'], dtype='object')"
      ]
     },
     "execution_count": 45,
     "metadata": {},
     "output_type": "execute_result"
    }
   ],
   "source": [
    "df_ks.columns[[6,8,10,12]]"
   ]
  },
  {
   "cell_type": "code",
   "execution_count": 46,
   "metadata": {},
   "outputs": [
    {
     "name": "stdout",
     "output_type": "stream",
     "text": [
      "1485\n",
      "1486\n",
      "1487\n",
      "1488\n"
     ]
    }
   ],
   "source": [
    "df_ks['goal']=df_ks['goal'].apply(lambda x: pd.to_numeric(x, errors='coerce'))\n",
    "print(df_ks.isna().sum().sum())\n",
    "df_ks['pledged']=df_ks['pledged'].apply(lambda x: pd.to_numeric(x, errors='coerce'))\n",
    "print(df_ks.isna().sum().sum())\n",
    "df_ks['backers']=df_ks['backers'].apply(lambda x: pd.to_numeric(x, errors='coerce'))\n",
    "print(df_ks.isna().sum().sum())\n",
    "df_ks['usd pledged']=df_ks['usd pledged'].apply(lambda x: pd.to_numeric(x, errors='coerce',downcast='float'))\n",
    "print(df_ks.isna().sum().sum())\n"
   ]
  },
  {
   "cell_type": "code",
   "execution_count": null,
   "metadata": {},
   "outputs": [],
   "source": []
  },
  {
   "cell_type": "markdown",
   "metadata": {},
   "source": [
    "## Question 0"
   ]
  },
  {
   "cell_type": "markdown",
   "metadata": {},
   "source": [
    "### Netoyer les données"
   ]
  },
  {
   "cell_type": "code",
   "execution_count": 47,
   "metadata": {},
   "outputs": [
    {
     "data": {
      "text/plain": [
       "(150000, 14)"
      ]
     },
     "execution_count": 47,
     "metadata": {},
     "output_type": "execute_result"
    }
   ],
   "source": [
    "df_ks.shape"
   ]
  },
  {
   "cell_type": "code",
   "execution_count": 48,
   "metadata": {
    "scrolled": true
   },
   "outputs": [],
   "source": [
    "df_ks.dropna(axis=0,inplace=True)"
   ]
  },
  {
   "cell_type": "code",
   "execution_count": 49,
   "metadata": {},
   "outputs": [
    {
     "data": {
      "text/plain": [
       "0"
      ]
     },
     "execution_count": 49,
     "metadata": {},
     "output_type": "execute_result"
    }
   ],
   "source": [
    "df_ks.isna().sum().sum()"
   ]
  },
  {
   "cell_type": "code",
   "execution_count": 50,
   "metadata": {},
   "outputs": [
    {
     "data": {
      "text/plain": [
       "(148515, 14)"
      ]
     },
     "execution_count": 50,
     "metadata": {},
     "output_type": "execute_result"
    }
   ],
   "source": [
    "df_ks.shape"
   ]
  },
  {
   "cell_type": "code",
   "execution_count": 51,
   "metadata": {},
   "outputs": [
    {
     "data": {
      "text/plain": [
       "Index(['ID', 'name', 'category', 'main_category', 'currency', 'deadline',\n",
       "       'goal', 'launched', 'pledged', 'state', 'backers', 'country',\n",
       "       'usd pledged', 'usd_pledged_real'],\n",
       "      dtype='object')"
      ]
     },
     "execution_count": 51,
     "metadata": {},
     "output_type": "execute_result"
    }
   ],
   "source": [
    "df_ks.columns"
   ]
  },
  {
   "cell_type": "code",
   "execution_count": 52,
   "metadata": {},
   "outputs": [
    {
     "data": {
      "text/plain": [
       "ID                    int64\n",
       "name                 object\n",
       "category             object\n",
       "main_category        object\n",
       "currency             object\n",
       "deadline             object\n",
       "goal                float64\n",
       "launched             object\n",
       "pledged             float64\n",
       "state                object\n",
       "backers             float64\n",
       "country              object\n",
       "usd pledged         float64\n",
       "usd_pledged_real    float64\n",
       "dtype: object"
      ]
     },
     "execution_count": 52,
     "metadata": {},
     "output_type": "execute_result"
    }
   ],
   "source": [
    "df_ks.dtypes"
   ]
  },
  {
   "cell_type": "code",
   "execution_count": 60,
   "metadata": {},
   "outputs": [],
   "source": [
    "import json\n",
    "header=['ID', 'name', 'category', 'main_category', 'currency', 'deadline',\n",
    "       'goal', 'launched', 'pledged', 'state', 'backers', 'country',\n",
    "       'usd pledged', 'usd_pledged_real']\n",
    "\n",
    "\n",
    "#df=pd.read_json(\"./data/ks-projects-201801-sample.json\")\n",
    "\n",
    "for i in range(2) : \n",
    "    j=df_ks.loc[i, header]\n",
    "    a=j.to_dict()\n",
    "    a['ID']=int(a['ID'])\n",
    "    \n",
    "    \n",
    "    collection.insert_one(a)\n",
    "    \n",
    "    \n",
    "    \n",
    "    \n",
    "    \n",
    "    \n",
    "    \n",
    "    #\"row={}\n",
    "    #\"for field in header:\n",
    "      # \"\" row[field]=each[field]\n",
    "\n",
    "    #\"#\"\"collection.insert_one(row)\"\""
   ]
  },
  {
   "cell_type": "markdown",
   "metadata": {
    "slideshow": {
     "slide_type": "slide"
    }
   },
   "source": [
    "### Importer les données"
   ]
  },
  {
   "cell_type": "markdown",
   "metadata": {},
   "source": [
    "import json\n",
    "import pymongo\n",
    "import pandas as pd\n",
    "myclient = pymongo.MongoClient()\n",
    "\n",
    "import pandas\n",
    "import random\n",
    "\n",
    "n = 1000000 #number of records in file\n",
    "s = 100 #desired sample size\n",
    "filename = \"data/ks-projects-201801-sample.csv\"\n",
    "skip = sorted(random.sample(range(n),n-s))\n",
    "df = pandas.read_csv(filename, skiprows=skip)   # loading csv file\n",
    "df.to_json('ks-projects-201801-sample')                               # saving to json file\n",
    "jdf = open('ks-projects-201801-sample.json').read()                        # loading the json file \n",
    "data = json.loads(jdf) "
   ]
  },
  {
   "cell_type": "markdown",
   "metadata": {},
   "source": [
    "r,c=df_ks.shape"
   ]
  },
  {
   "cell_type": "markdown",
   "metadata": {},
   "source": [
    "import pandas as pd\n",
    "import numpy as np\n",
    "import csv\n",
    "import json\n",
    "import pandas as pd\n",
    "import sys, getopt, pprint\n",
    "csvfile = open(\"./data/ks-projects-201801-sample.csv\", 'r')\n",
    "df_ks = csv.DictReader( csvfile )\n",
    " \n",
    "df_ks['goal']=df_ks['goal'].apply(lambda x: pd.to_numeric(x, errors='coerce'))\n",
    "print(df_ks.isna().sum().sum())\n",
    "df_ks['pledged']=df_ks['pledged'].apply(lambda x: pd.to_numeric(x, errors='coerce'))\n",
    "print(df_ks.isna().sum().sum())\n",
    "df_ks['backers']=df_ks['backers'].apply(lambda x: pd.to_numeric(x, errors='coerce'))\n",
    "print(df_ks.isna().sum().sum())\n",
    "df_ks['usd pledged']=df_ks['usd pledged'].apply(lambda x: pd.to_numeric(x, errors='coerce',downcast='float'))\n",
    "print(df_ks.isna().sum().sum())\n",
    "\n",
    "df_ks.dropna(axis=0,inplace=True)\n",
    "\n",
    "df_ks.isna().sum().sum()\n",
    "    \n",
    "header= ['ID', 'name', 'category', 'main_category', 'currency', 'deadline',\n",
    "       'goal', 'launched', 'pledged', 'state', 'backers', 'country',\n",
    "       'usd pledged', 'usd_pledged_real']\n",
    "\n",
    "\n",
    "for each in reader:\n",
    "    row={}\n",
    "    for field in header:\n",
    "        row[field]=each[field]\n",
    "\n",
    "    collection.insert_one(row)"
   ]
  },
  {
   "cell_type": "code",
   "execution_count": 61,
   "metadata": {},
   "outputs": [
    {
     "data": {
      "text/plain": [
       "{'_id': ObjectId('5fc0f4a1e9c6ebd4718869ad'),\n",
       " 'ID': '872782264',\n",
       " 'name': 'Scott Cooper\\'s Solo CD \"A Leg Trick\" (Canceled)',\n",
       " 'category': 'Rock',\n",
       " 'main_category': 'Music',\n",
       " 'currency': 'USD',\n",
       " 'deadline': '2011-09-16',\n",
       " 'goal': '2000.0',\n",
       " 'launched': '2011-08-17 06:31:31',\n",
       " 'pledged': '1145.0',\n",
       " 'state': 'canceled',\n",
       " 'backers': '24',\n",
       " 'country': 'US',\n",
       " 'usd pledged': '1145.0',\n",
       " 'usd_pledged_real': '1145.0'}"
      ]
     },
     "execution_count": 61,
     "metadata": {},
     "output_type": "execute_result"
    }
   ],
   "source": [
    "collection.find_one()"
   ]
  },
  {
   "cell_type": "code",
   "execution_count": 62,
   "metadata": {},
   "outputs": [
    {
     "data": {
      "text/plain": [
       "ID                    int64\n",
       "name                 object\n",
       "category             object\n",
       "main_category        object\n",
       "currency             object\n",
       "deadline             object\n",
       "goal                float64\n",
       "launched             object\n",
       "pledged             float64\n",
       "state                object\n",
       "backers             float64\n",
       "country              object\n",
       "usd pledged         float64\n",
       "usd_pledged_real    float64\n",
       "dtype: object"
      ]
     },
     "execution_count": 62,
     "metadata": {},
     "output_type": "execute_result"
    }
   ],
   "source": [
    "df_ks.dtypes"
   ]
  },
  {
   "cell_type": "code",
   "execution_count": 84,
   "metadata": {},
   "outputs": [
    {
     "name": "stderr",
     "output_type": "stream",
     "text": [
      "<ipython-input-84-7c4bc5758cb0>:1: DeprecationWarning: count is deprecated. Use estimated_document_count or count_documents instead. Please note that $where must be replaced by $expr, $near must be replaced by $geoWithin with $center, and $nearSphere must be replaced by $geoWithin with $centerSphere\n",
      "  collection.count()\n"
     ]
    },
    {
     "data": {
      "text/plain": [
       "946295"
      ]
     },
     "execution_count": 84,
     "metadata": {},
     "output_type": "execute_result"
    }
   ],
   "source": [
    "collection.aggregate({})"
   ]
  },
  {
   "cell_type": "markdown",
   "metadata": {},
   "source": [
    "## Question 1  "
   ]
  },
  {
   "cell_type": "code",
   "execution_count": 81,
   "metadata": {},
   "outputs": [
    {
     "data": {
      "text/plain": [
       "{'_id': ObjectId('5fc0f4d7e9c6ebd47189eefb'),\n",
       " 'ID': '562004892',\n",
       " 'name': 'Andr? Josselin - Roadtrip Bildband: \"Us\"',\n",
       " 'category': 'Photobooks',\n",
       " 'main_category': 'Photography',\n",
       " 'currency': 'EUR',\n",
       " 'deadline': '2015-12-23',\n",
       " 'goal': '7500.0',\n",
       " 'launched': '2015-11-23 21:09:58',\n",
       " 'pledged': '42521.03',\n",
       " 'state': 'successful',\n",
       " 'backers': '999',\n",
       " 'country': 'DE',\n",
       " 'usd pledged': '45272.7048950681',\n",
       " 'usd_pledged_real': '46547.88777107576'}"
      ]
     },
     "execution_count": 81,
     "metadata": {},
     "output_type": "execute_result"
    }
   ],
   "source": [
    "cur=collection.aggregate([{\"$sort\": { \"backers\": -1}}],\n",
    "                       allowDiskUse= True)\n",
    "\n",
    "next(cur)\n",
    "\n"
   ]
  },
  {
   "cell_type": "code",
   "execution_count": 88,
   "metadata": {},
   "outputs": [
    {
     "ename": "SyntaxError",
     "evalue": "invalid syntax (<ipython-input-88-727146413be7>, line 2)",
     "output_type": "error",
     "traceback": [
      "\u001b[0;36m  File \u001b[0;32m\"<ipython-input-88-727146413be7>\"\u001b[0;36m, line \u001b[0;32m2\u001b[0m\n\u001b[0;31m    \"$project\": {\"docsTop10\": { \"$slice\": [ \"$docs\", 10 ] }}}}],allowDiskUse= True)\u001b[0m\n\u001b[0m                                                             ^\u001b[0m\n\u001b[0;31mSyntaxError\u001b[0m\u001b[0;31m:\u001b[0m invalid syntax\n"
     ]
    }
   ],
   "source": [
    "\n",
    "cur=collection.aggregate([{\"$sort\": { \"backers\": -1},"
   ]
  },
  {
   "cell_type": "markdown",
   "metadata": {},
   "source": [
    "## Question 2"
   ]
  },
  {
   "cell_type": "code",
   "execution_count": 91,
   "metadata": {},
   "outputs": [
    {
     "ename": "AttributeError",
     "evalue": "'Cursor' object has no attribute 'count_documents'",
     "output_type": "error",
     "traceback": [
      "\u001b[0;31m---------------------------------------------------------------------------\u001b[0m",
      "\u001b[0;31mAttributeError\u001b[0m                            Traceback (most recent call last)",
      "\u001b[0;32m<ipython-input-91-2aa44fa55498>\u001b[0m in \u001b[0;36m<module>\u001b[0;34m\u001b[0m\n\u001b[0;32m----> 1\u001b[0;31m \u001b[0mcur\u001b[0m\u001b[0;34m=\u001b[0m\u001b[0mcollection\u001b[0m\u001b[0;34m.\u001b[0m\u001b[0mfind\u001b[0m\u001b[0;34m(\u001b[0m\u001b[0;34m{\u001b[0m\u001b[0;34m\"backers\"\u001b[0m\u001b[0;34m:\u001b[0m\u001b[0;34m\"successful\"\u001b[0m\u001b[0;34m}\u001b[0m\u001b[0;34m)\u001b[0m\u001b[0;34m.\u001b[0m\u001b[0mcount_documents\u001b[0m\u001b[0;34m(\u001b[0m\u001b[0;34m)\u001b[0m\u001b[0;34m\u001b[0m\u001b[0;34m\u001b[0m\u001b[0m\n\u001b[0m",
      "\u001b[0;31mAttributeError\u001b[0m: 'Cursor' object has no attribute 'count_documents'"
     ]
    }
   ],
   "source": [
    "cur=collection.find({\"backers\":\"successful\"}).count_documents()"
   ]
  },
  {
   "cell_type": "markdown",
   "metadata": {},
   "source": [
    "## Question 3"
   ]
  },
  {
   "cell_type": "markdown",
   "metadata": {},
   "source": [
    "## Question 4"
   ]
  },
  {
   "cell_type": "markdown",
   "metadata": {},
   "source": [
    "## Question 5"
   ]
  },
  {
   "cell_type": "markdown",
   "metadata": {},
   "source": [
    "## Question 6 "
   ]
  },
  {
   "cell_type": "code",
   "execution_count": null,
   "metadata": {},
   "outputs": [],
   "source": []
  }
 ],
 "metadata": {
  "kernelspec": {
   "display_name": "Python 3",
   "language": "python",
   "name": "python3"
  },
  "language_info": {
   "codemirror_mode": {
    "name": "ipython",
    "version": 3
   },
   "file_extension": ".py",
   "mimetype": "text/x-python",
   "name": "python",
   "nbconvert_exporter": "python",
   "pygments_lexer": "ipython3",
   "version": "3.8.6"
  }
 },
 "nbformat": 4,
 "nbformat_minor": 2
}
